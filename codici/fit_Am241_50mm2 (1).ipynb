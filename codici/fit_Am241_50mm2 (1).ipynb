{
 "cells": [
  {
   "cell_type": "code",
   "execution_count": 4,
   "id": "7506f922-125b-4265-8fb9-609489f6db36",
   "metadata": {},
   "outputs": [
    {
     "name": "stdout",
     "output_type": "stream",
     "text": [
      "5399.0 1139.0 202.0\n"
     ]
    }
   ],
   "source": [
    "import numpy as np\n",
    "import matplotlib.pyplot as plt\n",
    "from iminuit import Minuit\n",
    "from iminuit.cost import ExtendedBinnedNLL\n",
    "from scipy.stats import norm\n",
    "\n",
    "#file = input(\"File: \")\n",
    "raw_data = np.loadtxt(\"Vbias_50mm2_241Am_06-11-24_V70.dat\")\n",
    "\n",
    "data1 = []\n",
    "\n",
    "for i in range(len(raw_data)):\n",
    "    for j in range(int(raw_data[i])):\n",
    "        data1.append(i)\n",
    "\n",
    "data = np.array(data1)\n",
    "\n",
    "signal = []\n",
    "\n",
    "\n",
    "for i in range(len(data)):\n",
    "    if data[i] > 5100 and data[i] < 8000: signal.append(data[i])\n",
    "\n",
    "N=sum(raw_data)\n",
    "\n",
    "def model(x, N1, N2, N3, mu1, sigma1, mu2, sigma2, mu3, sigma3):\n",
    "\treturn N1*norm.cdf(x, loc = mu1, scale = sigma1) + N2*norm.cdf(x, loc = mu2, scale = sigma2) + N3*norm.cdf(x, loc = mu3, scale = sigma3)\n",
    "\n",
    "\n",
    "N1_ext = 0\n",
    "N2_ext = 0\n",
    "N3_ext = 0\n",
    "\n",
    "for i in range(5275, 5350): #picco1 (più a dx)\n",
    "    N1_ext = N1_ext + raw_data[i]\n",
    "\n",
    "for i in range(5225, 5275): #picco2\n",
    "    N2_ext = N2_ext + raw_data[i]\n",
    "\n",
    "for i in range(5175, 5225): #picco3 (più a sx)\n",
    "    N3_ext = N3_ext + raw_data[i]\n",
    "\n",
    "print(N1_ext, N2_ext, N3_ext)\n",
    "\n",
    "    "
   ]
  },
  {
   "cell_type": "code",
   "execution_count": 5,
   "id": "e1720d97-0944-497b-9436-2f06f328517b",
   "metadata": {},
   "outputs": [
    {
     "name": "stdout",
     "output_type": "stream",
     "text": [
      "chi2: 3.4804595386050807\n",
      "True\n",
      "\n",
      " \n",
      " channel1: 5294.49079865562 +/- 0.11409251719016023\n",
      "\n",
      " fwhm1: 17.18714336131306 +/- 0.22239056591212356\n",
      "\n",
      " fwhm1/channel1 (1e-3): 3.2462316046856152 +/- 0.042074100252256164\n",
      "\n",
      " \n",
      " channel2: 5255.712881662014 +/- 0.46526026204601073\n",
      "\n",
      " fwhm2: 22.49392538084926 +/- 1.0855577803203427\n",
      "\n",
      " fwhm2/channel2 (1e-3): 4.279899965489744 +/- 0.206927028204764\n",
      "\n",
      " \n",
      " channel3: 5242.864055340491 +/- 3.0497361251745794\n",
      "\n",
      " fwhm3: 137.20622155411212 +/- 6.1077942285165\n",
      "\n",
      " fwhm3/channel3 (1e-3): 26.17008949800081 +/- 1.180195791945965\n"
     ]
    },
    {
     "data": {
      "image/png": "[encoded data removed]",
      "text/plain": [
       "<Figure size 640x480 with 1 Axes>"
      ]
     },
     "metadata": {},
     "output_type": "display_data"
    }
   ],
   "source": [
    "nbins = int(np.ceil(1 + np.log(len(signal)/np.log(2)))) *6\n",
    "\n",
    "bin_content, bin_edges, _ = plt.hist(signal, bins = nbins)\n",
    "\n",
    "\n",
    "N_events = sum(bin_content)\n",
    "\n",
    "costf = ExtendedBinnedNLL(bin_content, bin_edges, model)\n",
    "\n",
    "my_minuit = Minuit(costf, N1 = N1_ext, N2 = N2_ext, N3=N3_ext,  mu1 = 5300, sigma1 = 10, mu2= 5250, sigma2= 10, mu3=5200, sigma3=10)\n",
    "my_minuit.migrad()\n",
    "\n",
    "ch1 = my_minuit.values['mu1']\n",
    "err_ch1 = my_minuit.errors['mu1']\n",
    "fwhm1 = 2.355 * my_minuit.values['sigma1']\n",
    "err_fwhm1 = 2.355 * my_minuit.errors['sigma1']\n",
    "frac1 = fwhm1 / ch1\n",
    "err_frac1 = frac1 * (err_ch1/ch1 + err_fwhm1/fwhm1)\n",
    "\n",
    "ch2 = my_minuit.values['mu2']\n",
    "err_ch2 = my_minuit.errors['mu2']\n",
    "fwhm2 = 2.355 * my_minuit.values['sigma2']\n",
    "err_fwhm2 = 2.355 * my_minuit.errors['sigma2']\n",
    "frac2 = fwhm2 / ch2\n",
    "err_frac2 = frac2 * (err_ch2/ch2 + err_fwhm2/fwhm2)\n",
    "\n",
    "ch3 = my_minuit.values['mu3']\n",
    "err_ch3 = my_minuit.errors['mu3']\n",
    "fwhm3 = 2.355 * my_minuit.values['sigma3']\n",
    "err_fwhm3 = 2.355 * my_minuit.errors['sigma3']\n",
    "frac3 = fwhm3 / ch3\n",
    "err_frac3 = frac3 * (err_ch3/ch3 + err_fwhm3/fwhm3)\n",
    "\n",
    "\n",
    "print(\"chi2: \" + str(my_minuit.fval/my_minuit.ndof))\n",
    "\n",
    "print(\"\\n \\n channel1: \" + str(ch1)  + \" +/- \" + str(err_ch1))\n",
    "print(\"\\n fwhm1: \" + str(fwhm1) + \" +/- \" + str(err_fwhm1))\n",
    "print(\"\\n fwhm1/channel1 (1e-3): \" + str(frac1 * 10**3) + \" +/- \" + str(err_frac1 * 10**3))\n",
    "\n",
    "print(\"\\n \\n channel2: \" + str(ch2)  + \" +/- \" + str(err_ch2))\n",
    "print(\"\\n fwhm2: \" + str(fwhm2) + \" +/- \" + str(err_fwhm2))\n",
    "print(\"\\n fwhm2/channel2 (1e-3): \" + str(frac2 * 10**3) + \" +/- \" + str(err_frac2 * 10**3))\n",
    "\n",
    "print(\"\\n \\n channel3: \" + str(ch3)  + \" +/- \" + str(err_ch3))\n",
    "print(\"\\n fwhm3: \" + str(fwhm3) + \" +/- \" + str(err_fwhm3))\n",
    "print(\"\\n fwhm3/channel3 (1e-3): \" + str(frac3 * 10**3) + \" +/- \" + str(err_frac3 * 10**3))\n",
    "\n",
    "#display(my_minuit)"
   ]
  },
  {
   "cell_type": "code",
   "execution_count": null,
   "id": "2849c251-37aa-4e21-9e23-5c5fb6e32259",
   "metadata": {},
   "outputs": [],
   "source": []
  }
 ],
 "metadata": {
  "kernelspec": {
   "display_name": "Python 3 (ipykernel)",
   "language": "python",
   "name": "python3"
  },
  "language_info": {
   "codemirror_mode": {
    "name": "ipython",
    "version": 3
   },
   "file_extension": ".py",
   "mimetype": "text/x-python",
   "name": "python",
   "nbconvert_exporter": "python",
   "pygments_lexer": "ipython3",
   "version": "3.12.4"
  }
 },
 "nbformat": 4,
 "nbformat_minor": 5
}
