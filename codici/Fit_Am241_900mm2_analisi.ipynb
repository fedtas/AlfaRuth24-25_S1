{
 "cells": [
  {
   "cell_type": "code",
   "execution_count": 1,
   "id": "7d62ccd2-49dd-4c6f-82fc-8ea915cabb42",
   "metadata": {},
   "outputs": [
    {
     "ename": "IndexError",
     "evalue": "too many indices for array: array is 1-dimensional, but 2 were indexed",
     "output_type": "error",
     "traceback": [
      "\u001b[1;31m---------------------------------------------------------------------------\u001b[0m",
      "\u001b[1;31mIndexError\u001b[0m                                Traceback (most recent call last)",
      "Cell \u001b[1;32mIn[1], line 7\u001b[0m\n\u001b[0;32m      4\u001b[0m \u001b[38;5;28;01mfrom\u001b[39;00m \u001b[38;5;21;01miminuit\u001b[39;00m\u001b[38;5;21;01m.\u001b[39;00m\u001b[38;5;21;01mcost\u001b[39;00m \u001b[38;5;28;01mimport\u001b[39;00m LeastSquares\n\u001b[0;32m      6\u001b[0m data \u001b[38;5;241m=\u001b[39m np\u001b[38;5;241m.\u001b[39mloadtxt(\u001b[38;5;124m\"\u001b[39m\u001b[38;5;124mAm241_900mm2.txt\u001b[39m\u001b[38;5;124m\"\u001b[39m)\n\u001b[1;32m----> 7\u001b[0m V_bias \u001b[38;5;241m=\u001b[39m data[:,\u001b[38;5;241m0\u001b[39m]\n\u001b[0;32m      8\u001b[0m fwhm \u001b[38;5;241m=\u001b[39m data[:,\u001b[38;5;241m3\u001b[39m]\n\u001b[0;32m      9\u001b[0m errfwhm \u001b[38;5;241m=\u001b[39m data[:,\u001b[38;5;241m4\u001b[39m]\n",
      "\u001b[1;31mIndexError\u001b[0m: too many indices for array: array is 1-dimensional, but 2 were indexed"
     ]
    }
   ],
   "source": [
    "import numpy as np\n",
    "import matplotlib.pyplot as plt\n",
    "from iminuit import Minuit\n",
    "from iminuit.cost import LeastSquares\n",
    "\n",
    "data = np.loadtxt(\"Am241_900mm2.txt\")\n",
    "V_bias = data[:,0]\n",
    "fwhm = data[:,3]\n",
    "errfwhm = data[:,4]\n",
    "ch = data[:,1]\n",
    "errch = data[:,2]\n",
    "fwhm_ch = data[:,5]*10**-3\n",
    "errfwhm_ch=data[:,6]*10**-3\n",
    "\n",
    "err_vbias = []\n",
    "\n",
    "for i in range(len(V_bias)):\n",
    "    err_vbias.append(0.5/100*V_bias[i])\n",
    "\n",
    "    \n",
    "print(fwhm[2:6])\n",
    "print(sum(fwhm[2:6])/len(fwhm[2:6]))"
   ]
  },
  {
   "cell_type": "code",
   "execution_count": null,
   "id": "19f6eecc-8a75-445e-b07e-79e02b89f89b",
   "metadata": {},
   "outputs": [],
   "source": [
    "plt.errorbar(V_bias, fwhm,  xerr= err_vbias, yerr=errfwhm, linestyle=\"-\", marker=\"o\", color=\"red\", label=\"dati\", alpha=.5)\n",
    "plt.grid(\"on\")\n",
    "plt.hlines(sum(fwhm[2:6])/len(fwhm[2:6]), V_bias[0], V_bias[-1], color=\"green\", linestyle=\"dashed\", label=f\"Plateau = {round(sum(fwhm[2:6])/len(fwhm[2:6]), 2)}\")\n",
    "plt.xlabel(\"V bias (V)\")\n",
    "plt.ylabel(\"fwhm\")\n",
    "plt.legend()\n",
    "plt.title(\"fwhm VS V_bias\", color=\"red\")\n",
    "plt.show()\n",
    "\n"
   ]
  },
  {
   "cell_type": "code",
   "execution_count": null,
   "id": "55c1e35a-902f-4e47-b8a8-58429847fdcf",
   "metadata": {},
   "outputs": [],
   "source": [
    "plt.errorbar(V_bias, fwhm_ch, xerr= err_vbias, yerr=errfwhm_ch, linestyle=\"-\", marker=\"o\", color=\"red\", label=\"dati\")\n",
    "plt.grid(\"on\")\n",
    "plt.hlines(sum(fwhm_ch[2:6])/len(fwhm_ch[2:6]), V_bias[0], V_bias[-1], color=\"green\", linestyle=\"dashed\", label=f\"Plateau = {round(sum(fwhm_ch[2:6])/len(fwhm[2:6])*1e3, 2)} e-3\")\n",
    "plt.xlabel(\"V bias (V)\", color=\"blue\")\n",
    "plt.ylabel(\"fwhm/ch\", color=\"blue\")\n",
    "plt.legend()\n",
    "plt.title(\"fwhm/ch VS V_bias\", color=\"red\")\n",
    "plt.show()"
   ]
  },
  {
   "cell_type": "code",
   "execution_count": null,
   "id": "26a37576-40dd-45cd-af3e-60f1386fd96c",
   "metadata": {},
   "outputs": [],
   "source": []
  }
 ],
 "metadata": {
  "kernelspec": {
   "display_name": "Python 3 (ipykernel)",
   "language": "python",
   "name": "python3"
  },
  "language_info": {
   "codemirror_mode": {
    "name": "ipython",
    "version": 3
   },
   "file_extension": ".py",
   "mimetype": "text/x-python",
   "name": "python",
   "nbconvert_exporter": "python",
   "pygments_lexer": "ipython3",
   "version": "3.12.4"
  }
 },
 "nbformat": 4,
 "nbformat_minor": 5
}
